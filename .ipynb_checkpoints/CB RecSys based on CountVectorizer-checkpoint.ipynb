{
 "cells": [
  {
   "cell_type": "markdown",
   "id": "e0c8afe9",
   "metadata": {},
   "source": [
    "## Import Libraries"
   ]
  },
  {
   "cell_type": "code",
   "execution_count": 2,
   "id": "39b6fa9c",
   "metadata": {
    "ExecuteTime": {
     "end_time": "2022-11-30T14:05:07.961570Z",
     "start_time": "2022-11-30T14:05:07.947565Z"
    }
   },
   "outputs": [],
   "source": [
    "import pandas as pd\n",
    "from rake_nltk import Rake\n",
    "import numpy as np\n",
    "from sklearn.metrics.pairwise import cosine_similarity\n",
    "from sklearn.feature_extraction.text import CountVectorizer\n",
    "from wordcloud import WordCloud\n",
    "import matplotlib.pyplot as plt\n",
    "import plotly.express as px"
   ]
  },
  {
   "cell_type": "markdown",
   "id": "c7360862",
   "metadata": {},
   "source": [
    "## Import Data"
   ]
  },
  {
   "cell_type": "markdown",
   "id": "bf5d40f1",
   "metadata": {},
   "source": [
    "### News"
   ]
  },
  {
   "cell_type": "code",
   "execution_count": null,
   "id": "9e63b118",
   "metadata": {
    "ExecuteTime": {
     "end_time": "2022-11-30T14:04:15.640252Z",
     "start_time": "2022-11-30T14:04:15.640252Z"
    }
   },
   "outputs": [],
   "source": [
    "columns = ['News ID', 'Category', 'SubCategory', 'Title', 'Abstract', 'URL', 'Title Entities', 'Abstract Entites']\n",
    "news_df = pd.read_csv('./MINDsmall_train/news.tsv', names=columns, header=None, sep='\\t')\n",
    "news_df.head()"
   ]
  },
  {
   "cell_type": "code",
   "execution_count": null,
   "id": "c2174d37",
   "metadata": {
    "ExecuteTime": {
     "end_time": "2022-11-30T14:04:15.641752Z",
     "start_time": "2022-11-30T14:04:15.641752Z"
    }
   },
   "outputs": [],
   "source": [
    "news_df.info()"
   ]
  },
  {
   "cell_type": "markdown",
   "id": "d4b46c53",
   "metadata": {},
   "source": [
    "### Behavior"
   ]
  },
  {
   "cell_type": "code",
   "execution_count": null,
   "id": "07b3f6dd",
   "metadata": {
    "ExecuteTime": {
     "end_time": "2022-11-30T14:04:15.642752Z",
     "start_time": "2022-11-30T14:04:15.642752Z"
    }
   },
   "outputs": [],
   "source": [
    "columns = ['Impression ID', 'User ID', 'Time', 'History', 'Impressions']\n",
    "behaviors_df = pd.read_csv('./MINDsmall_train/behaviors.tsv', names=columns, header=None, sep='\\t')\n",
    "behaviors_df.head()"
   ]
  },
  {
   "cell_type": "markdown",
   "id": "a9cefa8d",
   "metadata": {},
   "source": [
    "## Experiments"
   ]
  },
  {
   "cell_type": "markdown",
   "id": "8e64b597",
   "metadata": {},
   "source": [
    "### Limiting to Title, Categoy, Subcategory, and Abstract"
   ]
  },
  {
   "cell_type": "code",
   "execution_count": null,
   "id": "aa7ddd19",
   "metadata": {
    "ExecuteTime": {
     "end_time": "2022-11-30T14:04:15.643753Z",
     "start_time": "2022-11-30T14:04:15.643753Z"
    }
   },
   "outputs": [],
   "source": [
    "df = news_df[['Title', 'Category', 'SubCategory', 'Abstract']]\n",
    "df.head()"
   ]
  },
  {
   "cell_type": "markdown",
   "id": "8eeef199",
   "metadata": {},
   "source": [
    "### Drop rows with missing abstracts"
   ]
  },
  {
   "cell_type": "code",
   "execution_count": null,
   "id": "a1fe3039",
   "metadata": {
    "ExecuteTime": {
     "end_time": "2022-11-30T14:04:15.644752Z",
     "start_time": "2022-11-30T14:04:15.644752Z"
    }
   },
   "outputs": [],
   "source": [
    "df.info()"
   ]
  },
  {
   "cell_type": "code",
   "execution_count": null,
   "id": "396c4a46",
   "metadata": {
    "ExecuteTime": {
     "end_time": "2022-11-30T14:04:15.645752Z",
     "start_time": "2022-11-30T14:04:15.645752Z"
    }
   },
   "outputs": [],
   "source": [
    "# dropping the Plot column\n",
    "df.dropna(inplace=True)\n",
    "\n",
    "df.info()"
   ]
  },
  {
   "cell_type": "markdown",
   "id": "272579f0",
   "metadata": {},
   "source": [
    "### Generating Bag of Words"
   ]
  },
  {
   "cell_type": "code",
   "execution_count": null,
   "id": "07ac22c5",
   "metadata": {
    "ExecuteTime": {
     "end_time": "2022-11-30T14:04:15.647252Z",
     "start_time": "2022-11-30T14:04:15.647252Z"
    },
    "scrolled": false
   },
   "outputs": [],
   "source": [
    "# initializing the new column\n",
    "df['Keywords'] = \"\"\n",
    "\n",
    "for index, row in df.iterrows():\n",
    "    # instantiating Rake, by default it uses english stopwords from NLTK\n",
    "    # and discards all puntuation characters as well\n",
    "    r = Rake()\n",
    "\n",
    "    # extracting the words by passing the text\n",
    "    r.extract_keywords_from_text(row['Abstract'])\n",
    "\n",
    "    # getting the dictionary whith key words as keys and their scores as values\n",
    "    key_words_dict_scores = r.get_word_degrees()\n",
    "    \n",
    "    # assigning the key words to the new column for the corresponding movie\n",
    "    row['Keywords'] = list(key_words_dict_scores.keys())\n",
    "\n",
    "# dropping the Abstract column\n",
    "df.drop(columns = ['Abstract'], inplace = True)\n",
    "\n",
    "df.head()"
   ]
  },
  {
   "cell_type": "code",
   "execution_count": null,
   "id": "a96a6ef9",
   "metadata": {
    "ExecuteTime": {
     "end_time": "2022-11-30T14:04:15.648252Z",
     "start_time": "2022-11-30T14:04:15.648252Z"
    }
   },
   "outputs": [],
   "source": [
    "df['Bag of Words'] = df.apply(lambda x: ' '.join([x['Category']] + [x['SubCategory']] + x['Keywords']), axis=1)\n",
    "\n",
    "# dropping the Category column\n",
    "df.drop(columns = ['Category'], inplace = True)\n",
    "# dropping the SubCategory column\n",
    "df.drop(columns = ['SubCategory'], inplace = True)\n",
    "# dropping the Keywords column\n",
    "df.drop(columns = ['Keywords'], inplace = True)\n",
    "\n",
    "df.head()"
   ]
  },
  {
   "cell_type": "markdown",
   "id": "3a87a5d7",
   "metadata": {},
   "source": [
    "### Applying Count Vectorizer"
   ]
  },
  {
   "cell_type": "code",
   "execution_count": null,
   "id": "fc0c65a1",
   "metadata": {
    "ExecuteTime": {
     "end_time": "2022-11-30T14:04:15.649252Z",
     "start_time": "2022-11-30T14:04:15.649252Z"
    }
   },
   "outputs": [],
   "source": [
    "# instantiating and generating the count matrix\n",
    "count = CountVectorizer()\n",
    "count_matrix = count.fit_transform(df['Bag of Words'])\n",
    "\n",
    "# generating the cosine similarity matrix\n",
    "cosine_sim = cosine_similarity(count_matrix, count_matrix)"
   ]
  },
  {
   "cell_type": "code",
   "execution_count": null,
   "id": "38ec2a05",
   "metadata": {
    "ExecuteTime": {
     "end_time": "2022-11-30T14:04:15.650251Z",
     "start_time": "2022-11-30T14:04:15.650251Z"
    }
   },
   "outputs": [],
   "source": [
    "# defining the function that takes in movie title \n",
    "# as input and returns the top 10 recommended movies\n",
    "def recommendations(title, cosine_sim = cosine_sim):\n",
    "    \n",
    "    # initializing the empty list of recommended movies\n",
    "    recommended_movies = []\n",
    "    \n",
    "    # gettin the index of the movie that matches the title\n",
    "    idx = df[df['Title'] == title].index[0]\n",
    "\n",
    "    # creating a Series with the similarity scores in descending order\n",
    "    score_series = pd.Series(cosine_sim[idx]).sort_values(ascending = False)\n",
    "\n",
    "    # getting the indexes of the 10 most similar movies\n",
    "    top_10_indexes = list(score_series.iloc[1:11].index)\n",
    "    \n",
    "    # populating the list with the titles of the best 10 matching movies\n",
    "    for i in top_10_indexes:\n",
    "        recommended_movies.append(list(df.index)[i])\n",
    "        \n",
    "    return recommended_movies"
   ]
  },
  {
   "cell_type": "markdown",
   "id": "d8c69eab",
   "metadata": {},
   "source": [
    "## Testing"
   ]
  },
  {
   "cell_type": "code",
   "execution_count": null,
   "id": "0000bc84",
   "metadata": {
    "ExecuteTime": {
     "end_time": "2022-11-30T14:04:15.651252Z",
     "start_time": "2022-11-30T14:04:15.651252Z"
    }
   },
   "outputs": [],
   "source": [
    "indices = recommendations('50 Worst Habits For Belly Fat')\n",
    "\n",
    "df.loc[indices]['Title']"
   ]
  },
  {
   "cell_type": "code",
   "execution_count": null,
   "id": "c357ec8f",
   "metadata": {
    "ExecuteTime": {
     "end_time": "2022-11-30T14:04:15.652252Z",
     "start_time": "2022-11-30T14:04:15.652252Z"
    },
    "scrolled": true
   },
   "outputs": [],
   "source": [
    "text=' '\n",
    "for i in news_df[news_df['Category']=='sports']['Title']:\n",
    "    text+=i+' '\n",
    "    \n",
    "# Make the figure\n",
    "wordcloud = WordCloud().generate(text)\n",
    "plt.figure()\n",
    "plt.imshow(wordcloud, interpolation=\"bilinear\")\n",
    "plt.axis(\"off\")\n",
    "\n",
    "plt.show()"
   ]
  },
  {
   "cell_type": "code",
   "execution_count": null,
   "id": "f9e7680b",
   "metadata": {
    "ExecuteTime": {
     "end_time": "2022-11-30T14:04:15.653251Z",
     "start_time": "2022-11-30T14:04:15.653251Z"
    }
   },
   "outputs": [],
   "source": [
    "text=' '\n",
    "for i in news_df[news_df['Category']=='news']['Title']:\n",
    "    text+=i+' '\n",
    "    \n",
    "# Make the figure\n",
    "wordcloud = WordCloud().generate(text)\n",
    "plt.figure()\n",
    "plt.imshow(wordcloud, interpolation=\"bilinear\")\n",
    "plt.axis(\"off\")\n",
    "\n",
    "plt.show()"
   ]
  },
  {
   "cell_type": "code",
   "execution_count": null,
   "id": "471b794f",
   "metadata": {
    "ExecuteTime": {
     "end_time": "2022-11-30T14:04:15.654751Z",
     "start_time": "2022-11-30T14:04:15.654751Z"
    }
   },
   "outputs": [],
   "source": [
    "c=news_df[['Category','SubCategory']].value_counts()\n",
    "\n",
    "index=[]\n",
    "for i in c.index:\n",
    "    index.append(np.array(i))\n",
    "index=np.array(index)"
   ]
  },
  {
   "cell_type": "code",
   "execution_count": null,
   "id": "01c3021f",
   "metadata": {
    "ExecuteTime": {
     "end_time": "2022-11-30T14:04:15.656386Z",
     "start_time": "2022-11-30T14:04:15.656386Z"
    }
   },
   "outputs": [],
   "source": [
    "df=pd.DataFrame(columns=['Category','Sub Category','Values'])\n",
    "df['Category']=index[:,0]\n",
    "df['Sub Category']=index[:,1]\n",
    "df['Values']=c.values\n",
    "\n",
    "px.bar(data_frame=df,x='Category',y='Values',color='Sub Category')"
   ]
  },
  {
   "cell_type": "code",
   "execution_count": null,
   "id": "a6540dcc",
   "metadata": {},
   "outputs": [],
   "source": []
  }
 ],
 "metadata": {
  "kernelspec": {
   "display_name": "Python 3 (ipykernel)",
   "language": "python",
   "name": "python3"
  },
  "language_info": {
   "codemirror_mode": {
    "name": "ipython",
    "version": 3
   },
   "file_extension": ".py",
   "mimetype": "text/x-python",
   "name": "python",
   "nbconvert_exporter": "python",
   "pygments_lexer": "ipython3",
   "version": "3.10.5"
  },
  "toc": {
   "base_numbering": 1,
   "nav_menu": {},
   "number_sections": true,
   "sideBar": true,
   "skip_h1_title": false,
   "title_cell": "Table of Contents",
   "title_sidebar": "Contents",
   "toc_cell": false,
   "toc_position": {
    "height": "calc(100% - 180px)",
    "left": "10px",
    "top": "150px",
    "width": "384px"
   },
   "toc_section_display": true,
   "toc_window_display": true
  },
  "varInspector": {
   "cols": {
    "lenName": 16,
    "lenType": 16,
    "lenVar": 40
   },
   "kernels_config": {
    "python": {
     "delete_cmd_postfix": "",
     "delete_cmd_prefix": "del ",
     "library": "var_list.py",
     "varRefreshCmd": "print(var_dic_list())"
    },
    "r": {
     "delete_cmd_postfix": ") ",
     "delete_cmd_prefix": "rm(",
     "library": "var_list.r",
     "varRefreshCmd": "cat(var_dic_list()) "
    }
   },
   "types_to_exclude": [
    "module",
    "function",
    "builtin_function_or_method",
    "instance",
    "_Feature"
   ],
   "window_display": false
  }
 },
 "nbformat": 4,
 "nbformat_minor": 5
}
